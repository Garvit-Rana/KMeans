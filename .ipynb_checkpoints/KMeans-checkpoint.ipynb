{
 "cells": [
  {
   "cell_type": "code",
   "execution_count": 1,
   "metadata": {
    "ExecuteTime": {
     "end_time": "2019-06-29T06:41:13.259334Z",
     "start_time": "2019-06-29T06:41:12.441926Z"
    }
   },
   "outputs": [],
   "source": [
    "from sklearn.cluster import KMeans"
   ]
  },
  {
   "cell_type": "code",
   "execution_count": 3,
   "metadata": {
    "ExecuteTime": {
     "end_time": "2019-06-29T06:41:34.440009Z",
     "start_time": "2019-06-29T06:41:34.435006Z"
    }
   },
   "outputs": [],
   "source": [
    "import numpy as np\n",
    "x=np.array([[1,2],[1.5,1.8],[5,8],[8,8],[1,0.6],[9,11]])"
   ]
  },
  {
   "cell_type": "code",
   "execution_count": null,
   "metadata": {},
   "outputs": [],
   "source": []
  },
  {
   "cell_type": "code",
   "execution_count": 9,
   "metadata": {
    "ExecuteTime": {
     "end_time": "2019-06-29T06:58:29.968030Z",
     "start_time": "2019-06-29T06:58:29.958023Z"
    }
   },
   "outputs": [],
   "source": [
    "def fit(data,k=2,iter=100):\n",
    "    means=[]\n",
    "    for i in range(k):\n",
    "        means.append(data[i])\n",
    "    cluster=[]\n",
    "    for i in range(iter):\n",
    "        for j in range(k):\n",
    "            cluster.append([])\n",
    "        for point in data:\n",
    "            d=[((point-m)**2).sum() for m in means]\n",
    "            mindist=min(d)\n",
    "            l=d.index(mindist)\n",
    "            cluster[l].append(point)\n",
    "            \n",
    "        change=False\n",
    "        for j in range(k):\n",
    "            new=np.average(cluster[j],axis=0)\n",
    "            if np.array_equal(means[j],new):\n",
    "                change=True\n",
    "            means[j]=new\n",
    "        if not change:\n",
    "            break\n",
    "    return means\n",
    "    "
   ]
  },
  {
   "cell_type": "code",
   "execution_count": 23,
   "metadata": {
    "ExecuteTime": {
     "end_time": "2019-06-29T07:02:56.666332Z",
     "start_time": "2019-06-29T07:02:56.658328Z"
    }
   },
   "outputs": [
    {
     "data": {
      "text/plain": [
       "[array([1.125, 1.6  ]), array([5.8125, 7.05  ])]"
      ]
     },
     "execution_count": 23,
     "metadata": {},
     "output_type": "execute_result"
    }
   ],
   "source": [
    "a=fit(x)\n",
    "a"
   ]
  },
  {
   "cell_type": "code",
   "execution_count": 24,
   "metadata": {
    "ExecuteTime": {
     "end_time": "2019-06-29T07:02:57.455462Z",
     "start_time": "2019-06-29T07:02:57.450458Z"
    }
   },
   "outputs": [],
   "source": [
    "def predict(test,means):\n",
    "    pred=[]\n",
    "    for point in test:\n",
    "        d=[((point-m)**2).sum() for m in means]\n",
    "        mindist=min(d)\n",
    "        l=d.index(mindist)\n",
    "        pred.append(l)\n",
    "    return pred"
   ]
  },
  {
   "cell_type": "code",
   "execution_count": 25,
   "metadata": {
    "ExecuteTime": {
     "end_time": "2019-06-29T07:02:58.325825Z",
     "start_time": "2019-06-29T07:02:58.318820Z"
    }
   },
   "outputs": [
    {
     "data": {
      "text/plain": [
       "[0, 0, 1, 1, 0, 1]"
      ]
     },
     "execution_count": 25,
     "metadata": {},
     "output_type": "execute_result"
    }
   ],
   "source": [
    "predict(x,a)"
   ]
  },
  {
   "cell_type": "code",
   "execution_count": 29,
   "metadata": {
    "ExecuteTime": {
     "end_time": "2019-06-29T07:08:26.729923Z",
     "start_time": "2019-06-29T07:08:26.718919Z"
    }
   },
   "outputs": [],
   "source": [
    "class km:\n",
    "    def __init__(self,k=2,iter=100):\n",
    "        self.k=k\n",
    "        self.iter=iter\n",
    "        \n",
    "    def fit(self,data):\n",
    "        self.means=[]\n",
    "        for i in range(self.k):\n",
    "            self.means.append(data[i])\n",
    "        cluster=[]\n",
    "        for i in range(self.iter):\n",
    "            for j in range(self.k):\n",
    "                cluster.append([])\n",
    "            for point in data:\n",
    "                d=[((point-m)**2).sum() for m in self.means]\n",
    "                mindist=min(d)\n",
    "                l=d.index(mindist)\n",
    "                cluster[l].append(point)\n",
    "            \n",
    "            change=False\n",
    "            for j in range(self.k):\n",
    "                new=np.average(cluster[j],axis=0)\n",
    "                if np.array_equal(self.means[j],new):\n",
    "                    change=True\n",
    "                self.means[j]=new\n",
    "            if not change:\n",
    "                break\n",
    "        \n",
    "    def predict(self,test):\n",
    "        pred=[]\n",
    "        for point in test:\n",
    "            d=[((point-m)**2).sum() for m in self.means]\n",
    "            mindist=min(d)\n",
    "            l=d.index(mindist)\n",
    "            pred.append(l)\n",
    "        return pred"
   ]
  },
  {
   "cell_type": "code",
   "execution_count": 30,
   "metadata": {
    "ExecuteTime": {
     "end_time": "2019-06-29T07:08:27.798168Z",
     "start_time": "2019-06-29T07:08:27.794188Z"
    }
   },
   "outputs": [],
   "source": [
    "a=km()"
   ]
  },
  {
   "cell_type": "code",
   "execution_count": 31,
   "metadata": {
    "ExecuteTime": {
     "end_time": "2019-06-29T07:08:28.419511Z",
     "start_time": "2019-06-29T07:08:28.413510Z"
    }
   },
   "outputs": [],
   "source": [
    "a.fit(x)"
   ]
  },
  {
   "cell_type": "code",
   "execution_count": 32,
   "metadata": {
    "ExecuteTime": {
     "end_time": "2019-06-29T07:08:38.709096Z",
     "start_time": "2019-06-29T07:08:38.702092Z"
    }
   },
   "outputs": [
    {
     "data": {
      "text/plain": [
       "[0, 0, 1, 1, 0, 1]"
      ]
     },
     "execution_count": 32,
     "metadata": {},
     "output_type": "execute_result"
    }
   ],
   "source": [
    "a.predict(x)"
   ]
  },
  {
   "cell_type": "code",
   "execution_count": null,
   "metadata": {},
   "outputs": [],
   "source": []
  }
 ],
 "metadata": {
  "hide_input": false,
  "kernelspec": {
   "display_name": "Python 3",
   "language": "python",
   "name": "python3"
  },
  "language_info": {
   "codemirror_mode": {
    "name": "ipython",
    "version": 3
   },
   "file_extension": ".py",
   "mimetype": "text/x-python",
   "name": "python",
   "nbconvert_exporter": "python",
   "pygments_lexer": "ipython3",
   "version": "3.6.5"
  },
  "toc": {
   "base_numbering": 1,
   "nav_menu": {},
   "number_sections": true,
   "sideBar": true,
   "skip_h1_title": false,
   "title_cell": "Table of Contents",
   "title_sidebar": "Contents",
   "toc_cell": false,
   "toc_position": {},
   "toc_section_display": true,
   "toc_window_display": false
  }
 },
 "nbformat": 4,
 "nbformat_minor": 2
}
